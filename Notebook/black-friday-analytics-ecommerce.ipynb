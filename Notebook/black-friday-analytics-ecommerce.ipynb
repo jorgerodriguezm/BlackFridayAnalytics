{
 "cells": [
  {
   "cell_type": "markdown",
   "id": "31db97a4",
   "metadata": {
    "papermill": {
     "duration": 0.015706,
     "end_time": "2021-09-02T21:57:58.891074",
     "exception": false,
     "start_time": "2021-09-02T21:57:58.875368",
     "status": "completed"
    },
    "tags": []
   },
   "source": [
    "![](https://www.sappiencia.com/images/ecommerce-management-sappiencia.gif)"
   ]
  },
  {
   "cell_type": "code",
   "execution_count": 1,
   "id": "9afa9e35",
   "metadata": {
    "_cell_guid": "b1076dfc-b9ad-4769-8c92-a6c4dae69d19",
    "_kg_hide-input": true,
    "_uuid": "8f2839f25d086af736a60e9eeb907d3b93b6e0e5",
    "execution": {
     "iopub.execute_input": "2021-09-02T21:57:58.927008Z",
     "iopub.status.busy": "2021-09-02T21:57:58.925181Z",
     "iopub.status.idle": "2021-09-02T21:57:58.938110Z",
     "shell.execute_reply": "2021-09-02T21:57:58.938640Z",
     "shell.execute_reply.started": "2021-09-02T21:56:13.305231Z"
    },
    "papermill": {
     "duration": 0.032742,
     "end_time": "2021-09-02T21:57:58.938990",
     "exception": false,
     "start_time": "2021-09-02T21:57:58.906248",
     "status": "completed"
    },
    "tags": []
   },
   "outputs": [],
   "source": [
    "# This Python 3 environment comes with many helpful analytics libraries installed\n",
    "# It is defined by the kaggle/python Docker image: https://github.com/kaggle/docker-python\n",
    "# For example, here's several helpful packages to load\n",
    "\n",
    "import numpy as np # linear algebra\n",
    "import pandas as pd # data processing, CSV file I/O (e.g. pd.read_csv)\n",
    "\n",
    "# Input data files are available in the read-only \"../input/\" directory\n",
    "# For example, running this (by clicking run or pressing Shift+Enter) will list all files under the input directory\n",
    "\n",
    "import os\n",
    "for dirname, _, filenames in os.walk('/kaggle/input'):\n",
    "    for filename in filenames:\n",
    "        print(os.path.join(dirname, filename))\n",
    "\n",
    "# You can write up to 20GB to the current directory (/kaggle/working/) that gets preserved as output when you create a version using \"Save & Run All\" \n",
    "# You can also write temporary files to /kaggle/temp/, but they won't be saved outside of the current session"
   ]
  },
  {
   "cell_type": "markdown",
   "id": "c47e5ffb",
   "metadata": {
    "papermill": {
     "duration": 0.014672,
     "end_time": "2021-09-02T21:57:58.968642",
     "exception": false,
     "start_time": "2021-09-02T21:57:58.953970",
     "status": "completed"
    },
    "tags": []
   },
   "source": [
    "## Basic Setup"
   ]
  },
  {
   "cell_type": "code",
   "execution_count": 2,
   "id": "7546ed61",
   "metadata": {
    "execution": {
     "iopub.execute_input": "2021-09-02T21:57:59.003380Z",
     "iopub.status.busy": "2021-09-02T21:57:59.002582Z",
     "iopub.status.idle": "2021-09-02T21:57:59.005799Z",
     "shell.execute_reply": "2021-09-02T21:57:59.005249Z",
     "shell.execute_reply.started": "2021-09-02T21:56:13.319414Z"
    },
    "papermill": {
     "duration": 0.022087,
     "end_time": "2021-09-02T21:57:59.005938",
     "exception": false,
     "start_time": "2021-09-02T21:57:58.983851",
     "status": "completed"
    },
    "tags": []
   },
   "outputs": [],
   "source": [
    "#Importing BigQuery\n",
    "from google.cloud import bigquery"
   ]
  },
  {
   "cell_type": "code",
   "execution_count": 3,
   "id": "5946d15b",
   "metadata": {
    "execution": {
     "iopub.execute_input": "2021-09-02T21:57:59.041658Z",
     "iopub.status.busy": "2021-09-02T21:57:59.040978Z",
     "iopub.status.idle": "2021-09-02T21:57:59.491412Z",
     "shell.execute_reply": "2021-09-02T21:57:59.490806Z",
     "shell.execute_reply.started": "2021-09-02T21:56:13.336267Z"
    },
    "papermill": {
     "duration": 0.470661,
     "end_time": "2021-09-02T21:57:59.491558",
     "exception": false,
     "start_time": "2021-09-02T21:57:59.020897",
     "status": "completed"
    },
    "tags": []
   },
   "outputs": [
    {
     "name": "stdout",
     "output_type": "stream",
     "text": [
      "Using Kaggle's public dataset BigQuery integration.\n"
     ]
    }
   ],
   "source": [
    "#Creation of Client Object\n",
    "client=bigquery.Client()\n",
    "\n",
    "#Dataset reference and fetch\n",
    "dataset_ref=client.dataset(\"google_analytics_sample\",project=\"bigquery-public-data\")\n",
    "dataset=client.get_dataset(dataset_ref)"
   ]
  },
  {
   "cell_type": "code",
   "execution_count": 4,
   "id": "a7f0df2e",
   "metadata": {
    "execution": {
     "iopub.execute_input": "2021-09-02T21:57:59.529184Z",
     "iopub.status.busy": "2021-09-02T21:57:59.528502Z",
     "iopub.status.idle": "2021-09-02T21:58:00.604627Z",
     "shell.execute_reply": "2021-09-02T21:58:00.604092Z",
     "shell.execute_reply.started": "2021-09-02T21:56:13.688763Z"
    },
    "papermill": {
     "duration": 1.097454,
     "end_time": "2021-09-02T21:58:00.604775",
     "exception": false,
     "start_time": "2021-09-02T21:57:59.507321",
     "status": "completed"
    },
    "tags": []
   },
   "outputs": [
    {
     "name": "stderr",
     "output_type": "stream",
     "text": [
      "/opt/conda/lib/python3.7/site-packages/ipykernel_launcher.py:8: UserWarning: Cannot use bqstorage_client if max_results is set, reverting to fetching data with the tabledata.list endpoint.\n",
      "  \n"
     ]
    },
    {
     "data": {
      "text/html": [
       "<div>\n",
       "<style scoped>\n",
       "    .dataframe tbody tr th:only-of-type {\n",
       "        vertical-align: middle;\n",
       "    }\n",
       "\n",
       "    .dataframe tbody tr th {\n",
       "        vertical-align: top;\n",
       "    }\n",
       "\n",
       "    .dataframe thead th {\n",
       "        text-align: right;\n",
       "    }\n",
       "</style>\n",
       "<table border=\"1\" class=\"dataframe\">\n",
       "  <thead>\n",
       "    <tr style=\"text-align: right;\">\n",
       "      <th></th>\n",
       "      <th>visitorId</th>\n",
       "      <th>visitNumber</th>\n",
       "      <th>visitId</th>\n",
       "      <th>visitStartTime</th>\n",
       "      <th>date</th>\n",
       "      <th>totals</th>\n",
       "      <th>trafficSource</th>\n",
       "      <th>device</th>\n",
       "      <th>geoNetwork</th>\n",
       "      <th>customDimensions</th>\n",
       "      <th>hits</th>\n",
       "      <th>fullVisitorId</th>\n",
       "      <th>userId</th>\n",
       "      <th>channelGrouping</th>\n",
       "      <th>socialEngagementType</th>\n",
       "    </tr>\n",
       "  </thead>\n",
       "  <tbody>\n",
       "    <tr>\n",
       "      <th>0</th>\n",
       "      <td>NaN</td>\n",
       "      <td>13</td>\n",
       "      <td>1480397622</td>\n",
       "      <td>1480397622</td>\n",
       "      <td>20161128</td>\n",
       "      <td>{'visits': 1, 'hits': 5, 'pageviews': 5, 'time...</td>\n",
       "      <td>{'referralPath': '/watch', 'campaign': '(not s...</td>\n",
       "      <td>{'browser': 'Chrome', 'browserVersion': 'not a...</td>\n",
       "      <td>{'continent': 'Americas', 'subContinent': 'Nor...</td>\n",
       "      <td>[{'index': 4, 'value': 'North America'}]</td>\n",
       "      <td>[{'hitNumber': 1, 'time': 0, 'hour': 21, 'minu...</td>\n",
       "      <td>6837748114500171233</td>\n",
       "      <td>None</td>\n",
       "      <td>Social</td>\n",
       "      <td>Not Socially Engaged</td>\n",
       "    </tr>\n",
       "    <tr>\n",
       "      <th>1</th>\n",
       "      <td>NaN</td>\n",
       "      <td>1</td>\n",
       "      <td>1480335543</td>\n",
       "      <td>1480335543</td>\n",
       "      <td>20161128</td>\n",
       "      <td>{'visits': 1, 'hits': 6, 'pageviews': 3, 'time...</td>\n",
       "      <td>{'referralPath': None, 'campaign': '(not set)'...</td>\n",
       "      <td>{'browser': 'Safari', 'browserVersion': 'not a...</td>\n",
       "      <td>{'continent': 'Asia', 'subContinent': 'Souther...</td>\n",
       "      <td>[{'index': 4, 'value': 'APAC'}]</td>\n",
       "      <td>[{'hitNumber': 1, 'time': 0, 'hour': 4, 'minut...</td>\n",
       "      <td>0562216437867751266</td>\n",
       "      <td>None</td>\n",
       "      <td>Organic Search</td>\n",
       "      <td>Not Socially Engaged</td>\n",
       "    </tr>\n",
       "    <tr>\n",
       "      <th>2</th>\n",
       "      <td>NaN</td>\n",
       "      <td>1</td>\n",
       "      <td>1480338108</td>\n",
       "      <td>1480338108</td>\n",
       "      <td>20161128</td>\n",
       "      <td>{'visits': 1, 'hits': 9, 'pageviews': 9, 'time...</td>\n",
       "      <td>{'referralPath': None, 'campaign': '(not set)'...</td>\n",
       "      <td>{'browser': 'Edge', 'browserVersion': 'not ava...</td>\n",
       "      <td>{'continent': 'Europe', 'subContinent': 'Weste...</td>\n",
       "      <td>[{'index': 4, 'value': 'EMEA'}]</td>\n",
       "      <td>[{'hitNumber': 1, 'time': 0, 'hour': 5, 'minut...</td>\n",
       "      <td>8345017619107269568</td>\n",
       "      <td>None</td>\n",
       "      <td>Direct</td>\n",
       "      <td>Not Socially Engaged</td>\n",
       "    </tr>\n",
       "    <tr>\n",
       "      <th>3</th>\n",
       "      <td>NaN</td>\n",
       "      <td>1</td>\n",
       "      <td>1480345768</td>\n",
       "      <td>1480345768</td>\n",
       "      <td>20161128</td>\n",
       "      <td>{'visits': 1, 'hits': 12, 'pageviews': 10, 'ti...</td>\n",
       "      <td>{'referralPath': None, 'campaign': '(not set)'...</td>\n",
       "      <td>{'browser': 'Safari', 'browserVersion': 'not a...</td>\n",
       "      <td>{'continent': 'Europe', 'subContinent': 'Weste...</td>\n",
       "      <td>[{'index': 4, 'value': 'EMEA'}]</td>\n",
       "      <td>[{'hitNumber': 1, 'time': 0, 'hour': 7, 'minut...</td>\n",
       "      <td>2035721900226604057</td>\n",
       "      <td>None</td>\n",
       "      <td>Organic Search</td>\n",
       "      <td>Not Socially Engaged</td>\n",
       "    </tr>\n",
       "    <tr>\n",
       "      <th>4</th>\n",
       "      <td>NaN</td>\n",
       "      <td>3</td>\n",
       "      <td>1480346206</td>\n",
       "      <td>1480346206</td>\n",
       "      <td>20161128</td>\n",
       "      <td>{'visits': 1, 'hits': 8, 'pageviews': 8, 'time...</td>\n",
       "      <td>{'referralPath': None, 'campaign': '(not set)'...</td>\n",
       "      <td>{'browser': 'Chrome', 'browserVersion': 'not a...</td>\n",
       "      <td>{'continent': 'Europe', 'subContinent': 'Weste...</td>\n",
       "      <td>[{'index': 4, 'value': 'EMEA'}]</td>\n",
       "      <td>[{'hitNumber': 1, 'time': 0, 'hour': 7, 'minut...</td>\n",
       "      <td>5351678518557340681</td>\n",
       "      <td>None</td>\n",
       "      <td>Direct</td>\n",
       "      <td>Not Socially Engaged</td>\n",
       "    </tr>\n",
       "  </tbody>\n",
       "</table>\n",
       "</div>"
      ],
      "text/plain": [
       "   visitorId  visitNumber     visitId  visitStartTime      date  \\\n",
       "0        NaN           13  1480397622      1480397622  20161128   \n",
       "1        NaN            1  1480335543      1480335543  20161128   \n",
       "2        NaN            1  1480338108      1480338108  20161128   \n",
       "3        NaN            1  1480345768      1480345768  20161128   \n",
       "4        NaN            3  1480346206      1480346206  20161128   \n",
       "\n",
       "                                              totals  \\\n",
       "0  {'visits': 1, 'hits': 5, 'pageviews': 5, 'time...   \n",
       "1  {'visits': 1, 'hits': 6, 'pageviews': 3, 'time...   \n",
       "2  {'visits': 1, 'hits': 9, 'pageviews': 9, 'time...   \n",
       "3  {'visits': 1, 'hits': 12, 'pageviews': 10, 'ti...   \n",
       "4  {'visits': 1, 'hits': 8, 'pageviews': 8, 'time...   \n",
       "\n",
       "                                       trafficSource  \\\n",
       "0  {'referralPath': '/watch', 'campaign': '(not s...   \n",
       "1  {'referralPath': None, 'campaign': '(not set)'...   \n",
       "2  {'referralPath': None, 'campaign': '(not set)'...   \n",
       "3  {'referralPath': None, 'campaign': '(not set)'...   \n",
       "4  {'referralPath': None, 'campaign': '(not set)'...   \n",
       "\n",
       "                                              device  \\\n",
       "0  {'browser': 'Chrome', 'browserVersion': 'not a...   \n",
       "1  {'browser': 'Safari', 'browserVersion': 'not a...   \n",
       "2  {'browser': 'Edge', 'browserVersion': 'not ava...   \n",
       "3  {'browser': 'Safari', 'browserVersion': 'not a...   \n",
       "4  {'browser': 'Chrome', 'browserVersion': 'not a...   \n",
       "\n",
       "                                          geoNetwork  \\\n",
       "0  {'continent': 'Americas', 'subContinent': 'Nor...   \n",
       "1  {'continent': 'Asia', 'subContinent': 'Souther...   \n",
       "2  {'continent': 'Europe', 'subContinent': 'Weste...   \n",
       "3  {'continent': 'Europe', 'subContinent': 'Weste...   \n",
       "4  {'continent': 'Europe', 'subContinent': 'Weste...   \n",
       "\n",
       "                           customDimensions  \\\n",
       "0  [{'index': 4, 'value': 'North America'}]   \n",
       "1           [{'index': 4, 'value': 'APAC'}]   \n",
       "2           [{'index': 4, 'value': 'EMEA'}]   \n",
       "3           [{'index': 4, 'value': 'EMEA'}]   \n",
       "4           [{'index': 4, 'value': 'EMEA'}]   \n",
       "\n",
       "                                                hits        fullVisitorId  \\\n",
       "0  [{'hitNumber': 1, 'time': 0, 'hour': 21, 'minu...  6837748114500171233   \n",
       "1  [{'hitNumber': 1, 'time': 0, 'hour': 4, 'minut...  0562216437867751266   \n",
       "2  [{'hitNumber': 1, 'time': 0, 'hour': 5, 'minut...  8345017619107269568   \n",
       "3  [{'hitNumber': 1, 'time': 0, 'hour': 7, 'minut...  2035721900226604057   \n",
       "4  [{'hitNumber': 1, 'time': 0, 'hour': 7, 'minut...  5351678518557340681   \n",
       "\n",
       "  userId channelGrouping  socialEngagementType  \n",
       "0   None          Social  Not Socially Engaged  \n",
       "1   None  Organic Search  Not Socially Engaged  \n",
       "2   None          Direct  Not Socially Engaged  \n",
       "3   None  Organic Search  Not Socially Engaged  \n",
       "4   None          Direct  Not Socially Engaged  "
      ]
     },
     "execution_count": 4,
     "metadata": {},
     "output_type": "execute_result"
    }
   ],
   "source": [
    "#Black Friday 2016 Table Reference\n",
    "table_ref=dataset_ref.table(\"ga_sessions_20161128\")\n",
    "\n",
    "#Fetching table\n",
    "table=client.get_table(table_ref)\n",
    "\n",
    "#table.schema\n",
    "client.list_rows(table,max_results=5).to_dataframe()"
   ]
  },
  {
   "cell_type": "markdown",
   "id": "760b3090",
   "metadata": {
    "papermill": {
     "duration": 0.015649,
     "end_time": "2021-09-02T21:58:00.636549",
     "exception": false,
     "start_time": "2021-09-02T21:58:00.620900",
     "status": "completed"
    },
    "tags": []
   },
   "source": [
    "### Printing columns where most of our queries would be focusing on"
   ]
  },
  {
   "cell_type": "code",
   "execution_count": 5,
   "id": "aaa8a38c",
   "metadata": {
    "execution": {
     "iopub.execute_input": "2021-09-02T21:58:00.681285Z",
     "iopub.status.busy": "2021-09-02T21:58:00.680606Z",
     "iopub.status.idle": "2021-09-02T21:58:01.403239Z",
     "shell.execute_reply": "2021-09-02T21:58:01.402541Z",
     "shell.execute_reply.started": "2021-09-02T21:56:15.153544Z"
    },
    "papermill": {
     "duration": 0.750569,
     "end_time": "2021-09-02T21:58:01.403394",
     "exception": false,
     "start_time": "2021-09-02T21:58:00.652825",
     "status": "completed"
    },
    "tags": []
   },
   "outputs": [
    {
     "name": "stderr",
     "output_type": "stream",
     "text": [
      "/opt/conda/lib/python3.7/site-packages/ipykernel_launcher.py:1: UserWarning: Cannot use bqstorage_client if max_results is set, reverting to fetching data with the tabledata.list endpoint.\n",
      "  \"\"\"Entry point for launching an IPython kernel.\n"
     ]
    },
    {
     "data": {
      "text/html": [
       "<div>\n",
       "<style scoped>\n",
       "    .dataframe tbody tr th:only-of-type {\n",
       "        vertical-align: middle;\n",
       "    }\n",
       "\n",
       "    .dataframe tbody tr th {\n",
       "        vertical-align: top;\n",
       "    }\n",
       "\n",
       "    .dataframe thead th {\n",
       "        text-align: right;\n",
       "    }\n",
       "</style>\n",
       "<table border=\"1\" class=\"dataframe\">\n",
       "  <thead>\n",
       "    <tr style=\"text-align: right;\">\n",
       "      <th></th>\n",
       "      <th>trafficSource</th>\n",
       "      <th>device</th>\n",
       "      <th>geoNetwork</th>\n",
       "      <th>customDimensions</th>\n",
       "      <th>hits</th>\n",
       "      <th>fullVisitorId</th>\n",
       "      <th>userId</th>\n",
       "      <th>channelGrouping</th>\n",
       "      <th>socialEngagementType</th>\n",
       "    </tr>\n",
       "  </thead>\n",
       "  <tbody>\n",
       "    <tr>\n",
       "      <th>0</th>\n",
       "      <td>{'referralPath': '/watch', 'campaign': '(not s...</td>\n",
       "      <td>{'browser': 'Chrome', 'browserVersion': 'not a...</td>\n",
       "      <td>{'continent': 'Americas', 'subContinent': 'Nor...</td>\n",
       "      <td>[{'index': 4, 'value': 'North America'}]</td>\n",
       "      <td>[{'hitNumber': 1, 'time': 0, 'hour': 21, 'minu...</td>\n",
       "      <td>6837748114500171233</td>\n",
       "      <td>None</td>\n",
       "      <td>Social</td>\n",
       "      <td>Not Socially Engaged</td>\n",
       "    </tr>\n",
       "    <tr>\n",
       "      <th>1</th>\n",
       "      <td>{'referralPath': None, 'campaign': '(not set)'...</td>\n",
       "      <td>{'browser': 'Safari', 'browserVersion': 'not a...</td>\n",
       "      <td>{'continent': 'Asia', 'subContinent': 'Souther...</td>\n",
       "      <td>[{'index': 4, 'value': 'APAC'}]</td>\n",
       "      <td>[{'hitNumber': 1, 'time': 0, 'hour': 4, 'minut...</td>\n",
       "      <td>0562216437867751266</td>\n",
       "      <td>None</td>\n",
       "      <td>Organic Search</td>\n",
       "      <td>Not Socially Engaged</td>\n",
       "    </tr>\n",
       "    <tr>\n",
       "      <th>2</th>\n",
       "      <td>{'referralPath': None, 'campaign': '(not set)'...</td>\n",
       "      <td>{'browser': 'Edge', 'browserVersion': 'not ava...</td>\n",
       "      <td>{'continent': 'Europe', 'subContinent': 'Weste...</td>\n",
       "      <td>[{'index': 4, 'value': 'EMEA'}]</td>\n",
       "      <td>[{'hitNumber': 1, 'time': 0, 'hour': 5, 'minut...</td>\n",
       "      <td>8345017619107269568</td>\n",
       "      <td>None</td>\n",
       "      <td>Direct</td>\n",
       "      <td>Not Socially Engaged</td>\n",
       "    </tr>\n",
       "    <tr>\n",
       "      <th>3</th>\n",
       "      <td>{'referralPath': None, 'campaign': '(not set)'...</td>\n",
       "      <td>{'browser': 'Safari', 'browserVersion': 'not a...</td>\n",
       "      <td>{'continent': 'Europe', 'subContinent': 'Weste...</td>\n",
       "      <td>[{'index': 4, 'value': 'EMEA'}]</td>\n",
       "      <td>[{'hitNumber': 1, 'time': 0, 'hour': 7, 'minut...</td>\n",
       "      <td>2035721900226604057</td>\n",
       "      <td>None</td>\n",
       "      <td>Organic Search</td>\n",
       "      <td>Not Socially Engaged</td>\n",
       "    </tr>\n",
       "    <tr>\n",
       "      <th>4</th>\n",
       "      <td>{'referralPath': None, 'campaign': '(not set)'...</td>\n",
       "      <td>{'browser': 'Chrome', 'browserVersion': 'not a...</td>\n",
       "      <td>{'continent': 'Europe', 'subContinent': 'Weste...</td>\n",
       "      <td>[{'index': 4, 'value': 'EMEA'}]</td>\n",
       "      <td>[{'hitNumber': 1, 'time': 0, 'hour': 7, 'minut...</td>\n",
       "      <td>5351678518557340681</td>\n",
       "      <td>None</td>\n",
       "      <td>Direct</td>\n",
       "      <td>Not Socially Engaged</td>\n",
       "    </tr>\n",
       "  </tbody>\n",
       "</table>\n",
       "</div>"
      ],
      "text/plain": [
       "                                       trafficSource  \\\n",
       "0  {'referralPath': '/watch', 'campaign': '(not s...   \n",
       "1  {'referralPath': None, 'campaign': '(not set)'...   \n",
       "2  {'referralPath': None, 'campaign': '(not set)'...   \n",
       "3  {'referralPath': None, 'campaign': '(not set)'...   \n",
       "4  {'referralPath': None, 'campaign': '(not set)'...   \n",
       "\n",
       "                                              device  \\\n",
       "0  {'browser': 'Chrome', 'browserVersion': 'not a...   \n",
       "1  {'browser': 'Safari', 'browserVersion': 'not a...   \n",
       "2  {'browser': 'Edge', 'browserVersion': 'not ava...   \n",
       "3  {'browser': 'Safari', 'browserVersion': 'not a...   \n",
       "4  {'browser': 'Chrome', 'browserVersion': 'not a...   \n",
       "\n",
       "                                          geoNetwork  \\\n",
       "0  {'continent': 'Americas', 'subContinent': 'Nor...   \n",
       "1  {'continent': 'Asia', 'subContinent': 'Souther...   \n",
       "2  {'continent': 'Europe', 'subContinent': 'Weste...   \n",
       "3  {'continent': 'Europe', 'subContinent': 'Weste...   \n",
       "4  {'continent': 'Europe', 'subContinent': 'Weste...   \n",
       "\n",
       "                           customDimensions  \\\n",
       "0  [{'index': 4, 'value': 'North America'}]   \n",
       "1           [{'index': 4, 'value': 'APAC'}]   \n",
       "2           [{'index': 4, 'value': 'EMEA'}]   \n",
       "3           [{'index': 4, 'value': 'EMEA'}]   \n",
       "4           [{'index': 4, 'value': 'EMEA'}]   \n",
       "\n",
       "                                                hits        fullVisitorId  \\\n",
       "0  [{'hitNumber': 1, 'time': 0, 'hour': 21, 'minu...  6837748114500171233   \n",
       "1  [{'hitNumber': 1, 'time': 0, 'hour': 4, 'minut...  0562216437867751266   \n",
       "2  [{'hitNumber': 1, 'time': 0, 'hour': 5, 'minut...  8345017619107269568   \n",
       "3  [{'hitNumber': 1, 'time': 0, 'hour': 7, 'minut...  2035721900226604057   \n",
       "4  [{'hitNumber': 1, 'time': 0, 'hour': 7, 'minut...  5351678518557340681   \n",
       "\n",
       "  userId channelGrouping  socialEngagementType  \n",
       "0   None          Social  Not Socially Engaged  \n",
       "1   None  Organic Search  Not Socially Engaged  \n",
       "2   None          Direct  Not Socially Engaged  \n",
       "3   None  Organic Search  Not Socially Engaged  \n",
       "4   None          Direct  Not Socially Engaged  "
      ]
     },
     "execution_count": 5,
     "metadata": {},
     "output_type": "execute_result"
    }
   ],
   "source": [
    "client.list_rows(table, selected_fields=table.schema[6:], max_results=5).to_dataframe()"
   ]
  },
  {
   "cell_type": "markdown",
   "id": "ebeba974",
   "metadata": {
    "papermill": {
     "duration": 0.016771,
     "end_time": "2021-09-02T21:58:01.437135",
     "exception": false,
     "start_time": "2021-09-02T21:58:01.420364",
     "status": "completed"
    },
    "tags": []
   },
   "source": [
    "### Traffic Source, Device and geoNetwork Schemas"
   ]
  },
  {
   "cell_type": "code",
   "execution_count": 6,
   "id": "2e0d802a",
   "metadata": {
    "execution": {
     "iopub.execute_input": "2021-09-02T21:58:01.474004Z",
     "iopub.status.busy": "2021-09-02T21:58:01.473296Z",
     "iopub.status.idle": "2021-09-02T21:58:01.482233Z",
     "shell.execute_reply": "2021-09-02T21:58:01.481478Z",
     "shell.execute_reply.started": "2021-09-02T21:56:16.149252Z"
    },
    "papermill": {
     "duration": 0.028415,
     "end_time": "2021-09-02T21:58:01.482425",
     "exception": false,
     "start_time": "2021-09-02T21:58:01.454010",
     "status": "completed"
    },
    "tags": []
   },
   "outputs": [
    {
     "name": "stdout",
     "output_type": "stream",
     "text": [
      "SchemaField('trafficSource', 'RECORD', 'NULLABLE', None, (SchemaField('referralPath', 'STRING', 'NULLABLE', None, (), None), SchemaField('campaign', 'STRING', 'NULLABLE', None, (), None), SchemaField('source', 'STRING', 'NULLABLE', None, (), None), SchemaField('medium', 'STRING', 'NULLABLE', None, (), None), SchemaField('keyword', 'STRING', 'NULLABLE', None, (), None), SchemaField('adContent', 'STRING', 'NULLABLE', None, (), None), SchemaField('adwordsClickInfo', 'RECORD', 'NULLABLE', None, (SchemaField('campaignId', 'INTEGER', 'NULLABLE', None, (), None), SchemaField('adGroupId', 'INTEGER', 'NULLABLE', None, (), None), SchemaField('creativeId', 'INTEGER', 'NULLABLE', None, (), None), SchemaField('criteriaId', 'INTEGER', 'NULLABLE', None, (), None), SchemaField('page', 'INTEGER', 'NULLABLE', None, (), None), SchemaField('slot', 'STRING', 'NULLABLE', None, (), None), SchemaField('criteriaParameters', 'STRING', 'NULLABLE', None, (), None), SchemaField('gclId', 'STRING', 'NULLABLE', None, (), None), SchemaField('customerId', 'INTEGER', 'NULLABLE', None, (), None), SchemaField('adNetworkType', 'STRING', 'NULLABLE', None, (), None), SchemaField('targetingCriteria', 'RECORD', 'NULLABLE', None, (SchemaField('boomUserlistId', 'INTEGER', 'NULLABLE', None, (), None),), None), SchemaField('isVideoAd', 'BOOLEAN', 'NULLABLE', None, (), None)), None), SchemaField('isTrueDirect', 'BOOLEAN', 'NULLABLE', None, (), None), SchemaField('campaignCode', 'STRING', 'NULLABLE', None, (), None)), None)\n",
      "\n",
      "\n",
      "SchemaField('device', 'RECORD', 'NULLABLE', None, (SchemaField('browser', 'STRING', 'NULLABLE', None, (), None), SchemaField('browserVersion', 'STRING', 'NULLABLE', None, (), None), SchemaField('browserSize', 'STRING', 'NULLABLE', None, (), None), SchemaField('operatingSystem', 'STRING', 'NULLABLE', None, (), None), SchemaField('operatingSystemVersion', 'STRING', 'NULLABLE', None, (), None), SchemaField('isMobile', 'BOOLEAN', 'NULLABLE', None, (), None), SchemaField('mobileDeviceBranding', 'STRING', 'NULLABLE', None, (), None), SchemaField('mobileDeviceModel', 'STRING', 'NULLABLE', None, (), None), SchemaField('mobileInputSelector', 'STRING', 'NULLABLE', None, (), None), SchemaField('mobileDeviceInfo', 'STRING', 'NULLABLE', None, (), None), SchemaField('mobileDeviceMarketingName', 'STRING', 'NULLABLE', None, (), None), SchemaField('flashVersion', 'STRING', 'NULLABLE', None, (), None), SchemaField('javaEnabled', 'BOOLEAN', 'NULLABLE', None, (), None), SchemaField('language', 'STRING', 'NULLABLE', None, (), None), SchemaField('screenColors', 'STRING', 'NULLABLE', None, (), None), SchemaField('screenResolution', 'STRING', 'NULLABLE', None, (), None), SchemaField('deviceCategory', 'STRING', 'NULLABLE', None, (), None)), None)\n",
      "\n",
      "\n",
      "SchemaField('geoNetwork', 'RECORD', 'NULLABLE', None, (SchemaField('continent', 'STRING', 'NULLABLE', None, (), None), SchemaField('subContinent', 'STRING', 'NULLABLE', None, (), None), SchemaField('country', 'STRING', 'NULLABLE', None, (), None), SchemaField('region', 'STRING', 'NULLABLE', None, (), None), SchemaField('metro', 'STRING', 'NULLABLE', None, (), None), SchemaField('city', 'STRING', 'NULLABLE', None, (), None), SchemaField('cityId', 'STRING', 'NULLABLE', None, (), None), SchemaField('networkDomain', 'STRING', 'NULLABLE', None, (), None), SchemaField('latitude', 'STRING', 'NULLABLE', None, (), None), SchemaField('longitude', 'STRING', 'NULLABLE', None, (), None), SchemaField('networkLocation', 'STRING', 'NULLABLE', None, (), None)), None)\n"
     ]
    }
   ],
   "source": [
    "print(table.schema[6])\n",
    "print(\"\\n\")\n",
    "print(table.schema[7])\n",
    "print(\"\\n\")\n",
    "print(table.schema[8])"
   ]
  },
  {
   "cell_type": "markdown",
   "id": "6a329656",
   "metadata": {
    "papermill": {
     "duration": 0.017457,
     "end_time": "2021-09-02T21:58:01.518035",
     "exception": false,
     "start_time": "2021-09-02T21:58:01.500578",
     "status": "completed"
    },
    "tags": []
   },
   "source": [
    "### Queries to be used later on a Data Viz Dashboard"
   ]
  },
  {
   "cell_type": "code",
   "execution_count": 7,
   "id": "8f9ab162",
   "metadata": {
    "execution": {
     "iopub.execute_input": "2021-09-02T21:58:01.560284Z",
     "iopub.status.busy": "2021-09-02T21:58:01.559621Z",
     "iopub.status.idle": "2021-09-02T21:58:02.576849Z",
     "shell.execute_reply": "2021-09-02T21:58:02.577515Z",
     "shell.execute_reply.started": "2021-09-02T21:56:16.158309Z"
    },
    "papermill": {
     "duration": 1.042187,
     "end_time": "2021-09-02T21:58:02.577707",
     "exception": false,
     "start_time": "2021-09-02T21:58:01.535520",
     "status": "completed"
    },
    "tags": []
   },
   "outputs": [
    {
     "name": "stderr",
     "output_type": "stream",
     "text": [
      "/opt/conda/lib/python3.7/site-packages/google/cloud/bigquery/client.py:440: UserWarning: Cannot create BigQuery Storage client, the dependency google-cloud-bigquery-storage is not installed.\n",
      "  \"Cannot create BigQuery Storage client, the dependency \"\n"
     ]
    },
    {
     "data": {
      "text/html": [
       "<div>\n",
       "<style scoped>\n",
       "    .dataframe tbody tr th:only-of-type {\n",
       "        vertical-align: middle;\n",
       "    }\n",
       "\n",
       "    .dataframe tbody tr th {\n",
       "        vertical-align: top;\n",
       "    }\n",
       "\n",
       "    .dataframe thead th {\n",
       "        text-align: right;\n",
       "    }\n",
       "</style>\n",
       "<table border=\"1\" class=\"dataframe\">\n",
       "  <thead>\n",
       "    <tr style=\"text-align: right;\">\n",
       "      <th></th>\n",
       "      <th>country</th>\n",
       "      <th>city</th>\n",
       "      <th>revenue</th>\n",
       "    </tr>\n",
       "  </thead>\n",
       "  <tbody>\n",
       "    <tr>\n",
       "      <th>0</th>\n",
       "      <td>United States</td>\n",
       "      <td>New York</td>\n",
       "      <td>1878.50</td>\n",
       "    </tr>\n",
       "    <tr>\n",
       "      <th>1</th>\n",
       "      <td>United States</td>\n",
       "      <td>not available in demo dataset</td>\n",
       "      <td>344.35</td>\n",
       "    </tr>\n",
       "    <tr>\n",
       "      <th>2</th>\n",
       "      <td>Indonesia</td>\n",
       "      <td>(not set)</td>\n",
       "      <td>288.95</td>\n",
       "    </tr>\n",
       "    <tr>\n",
       "      <th>3</th>\n",
       "      <td>United States</td>\n",
       "      <td>San Francisco</td>\n",
       "      <td>210.06</td>\n",
       "    </tr>\n",
       "    <tr>\n",
       "      <th>4</th>\n",
       "      <td>United States</td>\n",
       "      <td>Chicago</td>\n",
       "      <td>151.40</td>\n",
       "    </tr>\n",
       "    <tr>\n",
       "      <th>5</th>\n",
       "      <td>United States</td>\n",
       "      <td>Mountain View</td>\n",
       "      <td>124.38</td>\n",
       "    </tr>\n",
       "    <tr>\n",
       "      <th>6</th>\n",
       "      <td>Mexico</td>\n",
       "      <td>Mexico City</td>\n",
       "      <td>121.97</td>\n",
       "    </tr>\n",
       "    <tr>\n",
       "      <th>7</th>\n",
       "      <td>United States</td>\n",
       "      <td>Sunnyvale</td>\n",
       "      <td>85.37</td>\n",
       "    </tr>\n",
       "    <tr>\n",
       "      <th>8</th>\n",
       "      <td>United States</td>\n",
       "      <td>Palo Alto</td>\n",
       "      <td>65.37</td>\n",
       "    </tr>\n",
       "    <tr>\n",
       "      <th>9</th>\n",
       "      <td>United States</td>\n",
       "      <td>San Jose</td>\n",
       "      <td>63.78</td>\n",
       "    </tr>\n",
       "  </tbody>\n",
       "</table>\n",
       "</div>"
      ],
      "text/plain": [
       "         country                           city  revenue\n",
       "0  United States                       New York  1878.50\n",
       "1  United States  not available in demo dataset   344.35\n",
       "2      Indonesia                      (not set)   288.95\n",
       "3  United States                  San Francisco   210.06\n",
       "4  United States                        Chicago   151.40\n",
       "5  United States                  Mountain View   124.38\n",
       "6         Mexico                    Mexico City   121.97\n",
       "7  United States                      Sunnyvale    85.37\n",
       "8  United States                      Palo Alto    65.37\n",
       "9  United States                       San Jose    63.78"
      ]
     },
     "execution_count": 7,
     "metadata": {},
     "output_type": "execute_result"
    }
   ],
   "source": [
    "#Top Cities\n",
    "query=  \"\"\"\n",
    "        select geoNetwork.country as country, geoNetwork.city as city,\n",
    "        sum(hits.transaction.transactionRevenue/1000000) as revenue\n",
    "        from `bigquery-public-data.google_analytics_sample.ga_sessions_20161125`,\n",
    "            unnest(hits) as hits\n",
    "        group by country, city\n",
    "        order by revenue desc\n",
    "        \"\"\"\n",
    "result = client.query(query).result().to_dataframe()\n",
    "result.head(10)"
   ]
  },
  {
   "cell_type": "code",
   "execution_count": 8,
   "id": "a0c3a253",
   "metadata": {
    "execution": {
     "iopub.execute_input": "2021-09-02T21:58:02.620498Z",
     "iopub.status.busy": "2021-09-02T21:58:02.619062Z",
     "iopub.status.idle": "2021-09-02T21:58:03.798307Z",
     "shell.execute_reply": "2021-09-02T21:58:03.797723Z",
     "shell.execute_reply.started": "2021-09-02T21:56:17.489588Z"
    },
    "papermill": {
     "duration": 1.202398,
     "end_time": "2021-09-02T21:58:03.798466",
     "exception": false,
     "start_time": "2021-09-02T21:58:02.596068",
     "status": "completed"
    },
    "tags": []
   },
   "outputs": [
    {
     "name": "stderr",
     "output_type": "stream",
     "text": [
      "/opt/conda/lib/python3.7/site-packages/google/cloud/bigquery/client.py:440: UserWarning: Cannot create BigQuery Storage client, the dependency google-cloud-bigquery-storage is not installed.\n",
      "  \"Cannot create BigQuery Storage client, the dependency \"\n"
     ]
    },
    {
     "data": {
      "text/html": [
       "<div>\n",
       "<style scoped>\n",
       "    .dataframe tbody tr th:only-of-type {\n",
       "        vertical-align: middle;\n",
       "    }\n",
       "\n",
       "    .dataframe tbody tr th {\n",
       "        vertical-align: top;\n",
       "    }\n",
       "\n",
       "    .dataframe thead th {\n",
       "        text-align: right;\n",
       "    }\n",
       "</style>\n",
       "<table border=\"1\" class=\"dataframe\">\n",
       "  <thead>\n",
       "    <tr style=\"text-align: right;\">\n",
       "      <th></th>\n",
       "      <th>device</th>\n",
       "      <th>users</th>\n",
       "      <th>sessions</th>\n",
       "    </tr>\n",
       "  </thead>\n",
       "  <tbody>\n",
       "    <tr>\n",
       "      <th>0</th>\n",
       "      <td>desktop</td>\n",
       "      <td>2899</td>\n",
       "      <td>3024</td>\n",
       "    </tr>\n",
       "    <tr>\n",
       "      <th>1</th>\n",
       "      <td>mobile</td>\n",
       "      <td>571</td>\n",
       "      <td>623</td>\n",
       "    </tr>\n",
       "    <tr>\n",
       "      <th>2</th>\n",
       "      <td>tablet</td>\n",
       "      <td>106</td>\n",
       "      <td>112</td>\n",
       "    </tr>\n",
       "  </tbody>\n",
       "</table>\n",
       "</div>"
      ],
      "text/plain": [
       "    device  users  sessions\n",
       "0  desktop   2899      3024\n",
       "1   mobile    571       623\n",
       "2   tablet    106       112"
      ]
     },
     "execution_count": 8,
     "metadata": {},
     "output_type": "execute_result"
    }
   ],
   "source": [
    "#Top Access by Devices\n",
    "query=  \"\"\"\n",
    "        select device.deviceCategory as device, count(distinct fullVisitorId) as users, count(1) as sessions\n",
    "        from `bigquery-public-data.google_analytics_sample.ga_sessions_20161125`\n",
    "        where totals.visits=1\n",
    "        group by device\n",
    "        order by sessions desc\n",
    "        \"\"\"\n",
    "result = client.query(query).result().to_dataframe()\n",
    "result.head()"
   ]
  },
  {
   "cell_type": "code",
   "execution_count": 9,
   "id": "c218cf43",
   "metadata": {
    "execution": {
     "iopub.execute_input": "2021-09-02T21:58:03.844440Z",
     "iopub.status.busy": "2021-09-02T21:58:03.843622Z",
     "iopub.status.idle": "2021-09-02T21:58:04.954173Z",
     "shell.execute_reply": "2021-09-02T21:58:04.953607Z",
     "shell.execute_reply.started": "2021-09-02T21:56:18.602179Z"
    },
    "papermill": {
     "duration": 1.136668,
     "end_time": "2021-09-02T21:58:04.954314",
     "exception": false,
     "start_time": "2021-09-02T21:58:03.817646",
     "status": "completed"
    },
    "tags": []
   },
   "outputs": [
    {
     "name": "stderr",
     "output_type": "stream",
     "text": [
      "/opt/conda/lib/python3.7/site-packages/google/cloud/bigquery/client.py:440: UserWarning: Cannot create BigQuery Storage client, the dependency google-cloud-bigquery-storage is not installed.\n",
      "  \"Cannot create BigQuery Storage client, the dependency \"\n"
     ]
    },
    {
     "data": {
      "text/html": [
       "<div>\n",
       "<style scoped>\n",
       "    .dataframe tbody tr th:only-of-type {\n",
       "        vertical-align: middle;\n",
       "    }\n",
       "\n",
       "    .dataframe tbody tr th {\n",
       "        vertical-align: top;\n",
       "    }\n",
       "\n",
       "    .dataframe thead th {\n",
       "        text-align: right;\n",
       "    }\n",
       "</style>\n",
       "<table border=\"1\" class=\"dataframe\">\n",
       "  <thead>\n",
       "    <tr style=\"text-align: right;\">\n",
       "      <th></th>\n",
       "      <th>browser</th>\n",
       "      <th>sessions</th>\n",
       "    </tr>\n",
       "  </thead>\n",
       "  <tbody>\n",
       "    <tr>\n",
       "      <th>0</th>\n",
       "      <td>Chrome</td>\n",
       "      <td>2282</td>\n",
       "    </tr>\n",
       "    <tr>\n",
       "      <th>1</th>\n",
       "      <td>Safari</td>\n",
       "      <td>1163</td>\n",
       "    </tr>\n",
       "    <tr>\n",
       "      <th>2</th>\n",
       "      <td>Firefox</td>\n",
       "      <td>131</td>\n",
       "    </tr>\n",
       "    <tr>\n",
       "      <th>3</th>\n",
       "      <td>Internet Explorer</td>\n",
       "      <td>74</td>\n",
       "    </tr>\n",
       "    <tr>\n",
       "      <th>4</th>\n",
       "      <td>Edge</td>\n",
       "      <td>34</td>\n",
       "    </tr>\n",
       "  </tbody>\n",
       "</table>\n",
       "</div>"
      ],
      "text/plain": [
       "             browser  sessions\n",
       "0             Chrome      2282\n",
       "1             Safari      1163\n",
       "2            Firefox       131\n",
       "3  Internet Explorer        74\n",
       "4               Edge        34"
      ]
     },
     "execution_count": 9,
     "metadata": {},
     "output_type": "execute_result"
    }
   ],
   "source": [
    "#Top Access by Browsers\n",
    "query=  \"\"\"\n",
    "        select device.browser as browser,count(1) as sessions\n",
    "        from `bigquery-public-data.google_analytics_sample.ga_sessions_20161125`\n",
    "        where totals.visits=1\n",
    "        group by browser\n",
    "        order by sessions desc\n",
    "        \"\"\"\n",
    "result = client.query(query).result().to_dataframe()\n",
    "result.head()"
   ]
  },
  {
   "cell_type": "code",
   "execution_count": 10,
   "id": "9a0ce4b7",
   "metadata": {
    "execution": {
     "iopub.execute_input": "2021-09-02T21:58:05.000974Z",
     "iopub.status.busy": "2021-09-02T21:58:05.000262Z",
     "iopub.status.idle": "2021-09-02T21:58:06.016532Z",
     "shell.execute_reply": "2021-09-02T21:58:06.015966Z",
     "shell.execute_reply.started": "2021-09-02T21:56:19.619051Z"
    },
    "papermill": {
     "duration": 1.042586,
     "end_time": "2021-09-02T21:58:06.016672",
     "exception": false,
     "start_time": "2021-09-02T21:58:04.974086",
     "status": "completed"
    },
    "tags": []
   },
   "outputs": [
    {
     "name": "stderr",
     "output_type": "stream",
     "text": [
      "/opt/conda/lib/python3.7/site-packages/google/cloud/bigquery/client.py:440: UserWarning: Cannot create BigQuery Storage client, the dependency google-cloud-bigquery-storage is not installed.\n",
      "  \"Cannot create BigQuery Storage client, the dependency \"\n"
     ]
    },
    {
     "data": {
      "text/html": [
       "<div>\n",
       "<style scoped>\n",
       "    .dataframe tbody tr th:only-of-type {\n",
       "        vertical-align: middle;\n",
       "    }\n",
       "\n",
       "    .dataframe tbody tr th {\n",
       "        vertical-align: top;\n",
       "    }\n",
       "\n",
       "    .dataframe thead th {\n",
       "        text-align: right;\n",
       "    }\n",
       "</style>\n",
       "<table border=\"1\" class=\"dataframe\">\n",
       "  <thead>\n",
       "    <tr style=\"text-align: right;\">\n",
       "      <th></th>\n",
       "      <th>source</th>\n",
       "      <th>transactions</th>\n",
       "      <th>revenue</th>\n",
       "    </tr>\n",
       "  </thead>\n",
       "  <tbody>\n",
       "    <tr>\n",
       "      <th>0</th>\n",
       "      <td>(direct)</td>\n",
       "      <td>28</td>\n",
       "      <td>3465.83</td>\n",
       "    </tr>\n",
       "    <tr>\n",
       "      <th>1</th>\n",
       "      <td>sites.google.com</td>\n",
       "      <td>1</td>\n",
       "      <td>63.78</td>\n",
       "    </tr>\n",
       "  </tbody>\n",
       "</table>\n",
       "</div>"
      ],
      "text/plain": [
       "             source  transactions  revenue\n",
       "0          (direct)            28  3465.83\n",
       "1  sites.google.com             1    63.78"
      ]
     },
     "execution_count": 10,
     "metadata": {},
     "output_type": "execute_result"
    }
   ],
   "source": [
    "#Revenue by Source\n",
    "query=  \"\"\"\n",
    "        select trafficSource.source as source, count(distinct hits.transaction.transactionId) as transactions,sum(hits.transaction.transactionRevenue/1000000) as revenue\n",
    "        from `bigquery-public-data.google_analytics_sample.ga_sessions_20161125`,\n",
    "            unnest(hits) as hits\n",
    "        where totals.visits=1\n",
    "        group by source\n",
    "        order by revenue desc\n",
    "        limit 2\n",
    "        \"\"\"\n",
    "result = client.query(query).result().to_dataframe()\n",
    "result"
   ]
  },
  {
   "cell_type": "code",
   "execution_count": 11,
   "id": "e4770626",
   "metadata": {
    "execution": {
     "iopub.execute_input": "2021-09-02T21:58:06.065061Z",
     "iopub.status.busy": "2021-09-02T21:58:06.064352Z",
     "iopub.status.idle": "2021-09-02T21:58:07.173815Z",
     "shell.execute_reply": "2021-09-02T21:58:07.174320Z",
     "shell.execute_reply.started": "2021-09-02T21:56:20.651622Z"
    },
    "papermill": {
     "duration": 1.137397,
     "end_time": "2021-09-02T21:58:07.174511",
     "exception": false,
     "start_time": "2021-09-02T21:58:06.037114",
     "status": "completed"
    },
    "tags": []
   },
   "outputs": [
    {
     "name": "stderr",
     "output_type": "stream",
     "text": [
      "/opt/conda/lib/python3.7/site-packages/google/cloud/bigquery/client.py:440: UserWarning: Cannot create BigQuery Storage client, the dependency google-cloud-bigquery-storage is not installed.\n",
      "  \"Cannot create BigQuery Storage client, the dependency \"\n"
     ]
    },
    {
     "data": {
      "text/html": [
       "<div>\n",
       "<style scoped>\n",
       "    .dataframe tbody tr th:only-of-type {\n",
       "        vertical-align: middle;\n",
       "    }\n",
       "\n",
       "    .dataframe tbody tr th {\n",
       "        vertical-align: top;\n",
       "    }\n",
       "\n",
       "    .dataframe thead th {\n",
       "        text-align: right;\n",
       "    }\n",
       "</style>\n",
       "<table border=\"1\" class=\"dataframe\">\n",
       "  <thead>\n",
       "    <tr style=\"text-align: right;\">\n",
       "      <th></th>\n",
       "      <th>channel</th>\n",
       "      <th>transactions</th>\n",
       "      <th>revenue</th>\n",
       "    </tr>\n",
       "  </thead>\n",
       "  <tbody>\n",
       "    <tr>\n",
       "      <th>0</th>\n",
       "      <td>Organic Search</td>\n",
       "      <td>12</td>\n",
       "      <td>2307.86</td>\n",
       "    </tr>\n",
       "    <tr>\n",
       "      <th>1</th>\n",
       "      <td>Referral</td>\n",
       "      <td>10</td>\n",
       "      <td>834.55</td>\n",
       "    </tr>\n",
       "    <tr>\n",
       "      <th>2</th>\n",
       "      <td>Direct</td>\n",
       "      <td>6</td>\n",
       "      <td>365.21</td>\n",
       "    </tr>\n",
       "  </tbody>\n",
       "</table>\n",
       "</div>"
      ],
      "text/plain": [
       "          channel  transactions  revenue\n",
       "0  Organic Search            12  2307.86\n",
       "1        Referral            10   834.55\n",
       "2          Direct             6   365.21"
      ]
     },
     "execution_count": 11,
     "metadata": {},
     "output_type": "execute_result"
    }
   ],
   "source": [
    "#Revenue by Marketing Channels\n",
    "query=  \"\"\"\n",
    "        select channelGrouping as channel, count(distinct hits.transaction.transactionId) as transactions,\n",
    "        sum(hits.transaction.transactionRevenue/1000000) as revenue\n",
    "        from `bigquery-public-data.google_analytics_sample.ga_sessions_20161125`,\n",
    "            unnest(hits) as hits\n",
    "        where totals.visits=1\n",
    "        group by channel \n",
    "        order by revenue desc\n",
    "        limit 3\n",
    "        \"\"\"\n",
    "result = client.query(query).result().to_dataframe()\n",
    "result"
   ]
  },
  {
   "cell_type": "code",
   "execution_count": 12,
   "id": "5f19b141",
   "metadata": {
    "execution": {
     "iopub.execute_input": "2021-09-02T21:58:07.224822Z",
     "iopub.status.busy": "2021-09-02T21:58:07.224042Z",
     "iopub.status.idle": "2021-09-02T21:58:08.247965Z",
     "shell.execute_reply": "2021-09-02T21:58:08.248504Z",
     "shell.execute_reply.started": "2021-09-02T21:56:21.689321Z"
    },
    "papermill": {
     "duration": 1.052703,
     "end_time": "2021-09-02T21:58:08.248689",
     "exception": false,
     "start_time": "2021-09-02T21:58:07.195986",
     "status": "completed"
    },
    "tags": []
   },
   "outputs": [
    {
     "name": "stderr",
     "output_type": "stream",
     "text": [
      "/opt/conda/lib/python3.7/site-packages/google/cloud/bigquery/client.py:440: UserWarning: Cannot create BigQuery Storage client, the dependency google-cloud-bigquery-storage is not installed.\n",
      "  \"Cannot create BigQuery Storage client, the dependency \"\n"
     ]
    },
    {
     "data": {
      "text/html": [
       "<div>\n",
       "<style scoped>\n",
       "    .dataframe tbody tr th:only-of-type {\n",
       "        vertical-align: middle;\n",
       "    }\n",
       "\n",
       "    .dataframe tbody tr th {\n",
       "        vertical-align: top;\n",
       "    }\n",
       "\n",
       "    .dataframe thead th {\n",
       "        text-align: right;\n",
       "    }\n",
       "</style>\n",
       "<table border=\"1\" class=\"dataframe\">\n",
       "  <thead>\n",
       "    <tr style=\"text-align: right;\">\n",
       "      <th></th>\n",
       "      <th>page</th>\n",
       "      <th>views</th>\n",
       "    </tr>\n",
       "  </thead>\n",
       "  <tbody>\n",
       "    <tr>\n",
       "      <th>0</th>\n",
       "      <td>Home</td>\n",
       "      <td>3190</td>\n",
       "    </tr>\n",
       "    <tr>\n",
       "      <th>1</th>\n",
       "      <td>Google Online Store</td>\n",
       "      <td>2226</td>\n",
       "    </tr>\n",
       "    <tr>\n",
       "      <th>2</th>\n",
       "      <td>YouTube | Shop by Brand | Google Merchandise S...</td>\n",
       "      <td>833</td>\n",
       "    </tr>\n",
       "    <tr>\n",
       "      <th>3</th>\n",
       "      <td>Shopping Cart</td>\n",
       "      <td>752</td>\n",
       "    </tr>\n",
       "    <tr>\n",
       "      <th>4</th>\n",
       "      <td>Men's T-Shirts | Apparel | Google Merchandise ...</td>\n",
       "      <td>600</td>\n",
       "    </tr>\n",
       "  </tbody>\n",
       "</table>\n",
       "</div>"
      ],
      "text/plain": [
       "                                                page  views\n",
       "0                                               Home   3190\n",
       "1                                Google Online Store   2226\n",
       "2  YouTube | Shop by Brand | Google Merchandise S...    833\n",
       "3                                      Shopping Cart    752\n",
       "4  Men's T-Shirts | Apparel | Google Merchandise ...    600"
      ]
     },
     "execution_count": 12,
     "metadata": {},
     "output_type": "execute_result"
    }
   ],
   "source": [
    "#Top Visited Pages\n",
    "query=  \"\"\"\n",
    "        select hits.page.pageTitle as page, count(1) as views\n",
    "        from `bigquery-public-data.google_analytics_sample.ga_sessions_20161125`,\n",
    "            unnest(hits) as hits\n",
    "        where totals.visits=1\n",
    "        group by page\n",
    "        order by views desc\n",
    "        \"\"\"\n",
    "result = client.query(query).result().to_dataframe()\n",
    "result.head()"
   ]
  },
  {
   "cell_type": "code",
   "execution_count": 13,
   "id": "3a1725a8",
   "metadata": {
    "execution": {
     "iopub.execute_input": "2021-09-02T21:58:08.297108Z",
     "iopub.status.busy": "2021-09-02T21:58:08.296419Z",
     "iopub.status.idle": "2021-09-02T21:58:09.287197Z",
     "shell.execute_reply": "2021-09-02T21:58:09.286576Z",
     "shell.execute_reply.started": "2021-09-02T21:56:22.745638Z"
    },
    "papermill": {
     "duration": 1.016321,
     "end_time": "2021-09-02T21:58:09.287342",
     "exception": false,
     "start_time": "2021-09-02T21:58:08.271021",
     "status": "completed"
    },
    "tags": []
   },
   "outputs": [
    {
     "name": "stderr",
     "output_type": "stream",
     "text": [
      "/opt/conda/lib/python3.7/site-packages/google/cloud/bigquery/client.py:440: UserWarning: Cannot create BigQuery Storage client, the dependency google-cloud-bigquery-storage is not installed.\n",
      "  \"Cannot create BigQuery Storage client, the dependency \"\n"
     ]
    },
    {
     "data": {
      "text/html": [
       "<div>\n",
       "<style scoped>\n",
       "    .dataframe tbody tr th:only-of-type {\n",
       "        vertical-align: middle;\n",
       "    }\n",
       "\n",
       "    .dataframe tbody tr th {\n",
       "        vertical-align: top;\n",
       "    }\n",
       "\n",
       "    .dataframe thead th {\n",
       "        text-align: right;\n",
       "    }\n",
       "</style>\n",
       "<table border=\"1\" class=\"dataframe\">\n",
       "  <thead>\n",
       "    <tr style=\"text-align: right;\">\n",
       "      <th></th>\n",
       "      <th>product</th>\n",
       "      <th>units</th>\n",
       "      <th>revenue</th>\n",
       "    </tr>\n",
       "  </thead>\n",
       "  <tbody>\n",
       "    <tr>\n",
       "      <th>0</th>\n",
       "      <td>7&amp;quot; Dog Frisbee</td>\n",
       "      <td>52</td>\n",
       "      <td>2942.72</td>\n",
       "    </tr>\n",
       "    <tr>\n",
       "      <th>1</th>\n",
       "      <td>Google Men's 100% Cotton Short Sleeve Hero Tee...</td>\n",
       "      <td>948</td>\n",
       "      <td>1707.41</td>\n",
       "    </tr>\n",
       "    <tr>\n",
       "      <th>2</th>\n",
       "      <td>Google Men's 100% Cotton Short Sleeve Hero Tee...</td>\n",
       "      <td>988</td>\n",
       "      <td>1703.41</td>\n",
       "    </tr>\n",
       "    <tr>\n",
       "      <th>3</th>\n",
       "      <td>Google Men's 100% Cotton Short Sleeve Hero Tee...</td>\n",
       "      <td>490</td>\n",
       "      <td>1681.42</td>\n",
       "    </tr>\n",
       "    <tr>\n",
       "      <th>4</th>\n",
       "      <td>Aluminum Handy Emergency Flashlight</td>\n",
       "      <td>54</td>\n",
       "      <td>1536.73</td>\n",
       "    </tr>\n",
       "  </tbody>\n",
       "</table>\n",
       "</div>"
      ],
      "text/plain": [
       "                                             product  units  revenue\n",
       "0                                7&quot; Dog Frisbee     52  2942.72\n",
       "1  Google Men's 100% Cotton Short Sleeve Hero Tee...    948  1707.41\n",
       "2  Google Men's 100% Cotton Short Sleeve Hero Tee...    988  1703.41\n",
       "3  Google Men's 100% Cotton Short Sleeve Hero Tee...    490  1681.42\n",
       "4                Aluminum Handy Emergency Flashlight     54  1536.73"
      ]
     },
     "execution_count": 13,
     "metadata": {},
     "output_type": "execute_result"
    }
   ],
   "source": [
    "#Top Products\n",
    "query=  \"\"\"\n",
    "        select product.v2ProductName as product, count(1) as units, sum(hits.transaction.transactionRevenue/1000000) as revenue\n",
    "        from `bigquery-public-data.google_analytics_sample.ga_sessions_20161125`,\n",
    "            unnest(hits) as hits,\n",
    "            unnest(hits.product) as product\n",
    "        group by product\n",
    "        order by revenue desc\n",
    "        \"\"\"\n",
    "result = client.query(query).result().to_dataframe()\n",
    "result.head()"
   ]
  },
  {
   "cell_type": "code",
   "execution_count": 14,
   "id": "c268e622",
   "metadata": {
    "execution": {
     "iopub.execute_input": "2021-09-02T21:58:09.340924Z",
     "iopub.status.busy": "2021-09-02T21:58:09.340238Z",
     "iopub.status.idle": "2021-09-02T21:58:10.303078Z",
     "shell.execute_reply": "2021-09-02T21:58:10.302516Z",
     "shell.execute_reply.started": "2021-09-02T21:56:23.795874Z"
    },
    "papermill": {
     "duration": 0.992669,
     "end_time": "2021-09-02T21:58:10.303262",
     "exception": false,
     "start_time": "2021-09-02T21:58:09.310593",
     "status": "completed"
    },
    "tags": []
   },
   "outputs": [
    {
     "name": "stderr",
     "output_type": "stream",
     "text": [
      "/opt/conda/lib/python3.7/site-packages/google/cloud/bigquery/client.py:440: UserWarning: Cannot create BigQuery Storage client, the dependency google-cloud-bigquery-storage is not installed.\n",
      "  \"Cannot create BigQuery Storage client, the dependency \"\n"
     ]
    },
    {
     "data": {
      "text/html": [
       "<div>\n",
       "<style scoped>\n",
       "    .dataframe tbody tr th:only-of-type {\n",
       "        vertical-align: middle;\n",
       "    }\n",
       "\n",
       "    .dataframe tbody tr th {\n",
       "        vertical-align: top;\n",
       "    }\n",
       "\n",
       "    .dataframe thead th {\n",
       "        text-align: right;\n",
       "    }\n",
       "</style>\n",
       "<table border=\"1\" class=\"dataframe\">\n",
       "  <thead>\n",
       "    <tr style=\"text-align: right;\">\n",
       "      <th></th>\n",
       "      <th>category</th>\n",
       "      <th>units</th>\n",
       "      <th>revenue</th>\n",
       "    </tr>\n",
       "  </thead>\n",
       "  <tbody>\n",
       "    <tr>\n",
       "      <th>0</th>\n",
       "      <td>Apparel</td>\n",
       "      <td>365</td>\n",
       "      <td>18805.23</td>\n",
       "    </tr>\n",
       "    <tr>\n",
       "      <th>1</th>\n",
       "      <td>Office</td>\n",
       "      <td>145</td>\n",
       "      <td>9278.92</td>\n",
       "    </tr>\n",
       "    <tr>\n",
       "      <th>2</th>\n",
       "      <td>Lifestyle</td>\n",
       "      <td>44</td>\n",
       "      <td>6213.48</td>\n",
       "    </tr>\n",
       "    <tr>\n",
       "      <th>3</th>\n",
       "      <td>Electronics</td>\n",
       "      <td>61</td>\n",
       "      <td>5223.57</td>\n",
       "    </tr>\n",
       "    <tr>\n",
       "      <th>4</th>\n",
       "      <td>Bags</td>\n",
       "      <td>50</td>\n",
       "      <td>2041.51</td>\n",
       "    </tr>\n",
       "  </tbody>\n",
       "</table>\n",
       "</div>"
      ],
      "text/plain": [
       "      category  units   revenue\n",
       "0      Apparel    365  18805.23\n",
       "1       Office    145   9278.92\n",
       "2    Lifestyle     44   6213.48\n",
       "3  Electronics     61   5223.57\n",
       "4         Bags     50   2041.51"
      ]
     },
     "execution_count": 14,
     "metadata": {},
     "output_type": "execute_result"
    }
   ],
   "source": [
    "#Top Product Categories\n",
    "query=  \"\"\"\n",
    "        select product.v2ProductCategory as category, count(1) as units, sum(hits.transaction.transactionRevenue/1000000) as revenue\n",
    "        from `bigquery-public-data.google_analytics_sample.ga_sessions_20161125`,\n",
    "            unnest(hits) as hits,\n",
    "            unnest(hits.product) as product \n",
    "        where totals.visits=1\n",
    "        group by category\n",
    "        order by revenue desc\n",
    "        \"\"\"\n",
    "result = client.query(query).result().to_dataframe()\n",
    "result.head()"
   ]
  }
 ],
 "metadata": {
  "kernelspec": {
   "display_name": "Python 3",
   "language": "python",
   "name": "python3"
  },
  "language_info": {
   "codemirror_mode": {
    "name": "ipython",
    "version": 3
   },
   "file_extension": ".py",
   "mimetype": "text/x-python",
   "name": "python",
   "nbconvert_exporter": "python",
   "pygments_lexer": "ipython3",
   "version": "3.7.10"
  },
  "papermill": {
   "default_parameters": {},
   "duration": 20.584747,
   "end_time": "2021-09-02T21:58:11.039922",
   "environment_variables": {},
   "exception": null,
   "input_path": "__notebook__.ipynb",
   "output_path": "__notebook__.ipynb",
   "parameters": {},
   "start_time": "2021-09-02T21:57:50.455175",
   "version": "2.3.3"
  }
 },
 "nbformat": 4,
 "nbformat_minor": 5
}
